{
 "cells": [
  {
   "cell_type": "code",
   "execution_count": 11,
   "id": "3d978a50",
   "metadata": {},
   "outputs": [
    {
     "name": "stdout",
     "output_type": "stream",
     "text": [
      "Requirement already satisfied: Jupyter-Beeper in ./venv/lib/python3.12/site-packages (1.0.3)\n",
      "Requirement already satisfied: opencv-python in ./venv/lib/python3.12/site-packages (4.11.0.86)\n",
      "Requirement already satisfied: numpy in ./venv/lib/python3.12/site-packages (1.26.4)\n",
      "Requirement already satisfied: mediapipe in ./venv/lib/python3.12/site-packages (0.10.20)\n",
      "Requirement already satisfied: ipython in ./venv/lib/python3.12/site-packages (from Jupyter-Beeper) (8.31.0)\n",
      "Requirement already satisfied: absl-py in ./venv/lib/python3.12/site-packages (from mediapipe) (2.1.0)\n",
      "Requirement already satisfied: attrs>=19.1.0 in ./venv/lib/python3.12/site-packages (from mediapipe) (25.1.0)\n",
      "Requirement already satisfied: flatbuffers>=2.0 in ./venv/lib/python3.12/site-packages (from mediapipe) (25.1.24)\n",
      "Requirement already satisfied: jax in ./venv/lib/python3.12/site-packages (from mediapipe) (0.5.0)\n",
      "Requirement already satisfied: jaxlib in ./venv/lib/python3.12/site-packages (from mediapipe) (0.5.0)\n",
      "Requirement already satisfied: matplotlib in ./venv/lib/python3.12/site-packages (from mediapipe) (3.10.0)\n",
      "Requirement already satisfied: opencv-contrib-python in ./venv/lib/python3.12/site-packages (from mediapipe) (4.11.0.86)\n",
      "Requirement already satisfied: protobuf<5,>=4.25.3 in ./venv/lib/python3.12/site-packages (from mediapipe) (4.25.6)\n",
      "Requirement already satisfied: sounddevice>=0.4.4 in ./venv/lib/python3.12/site-packages (from mediapipe) (0.5.1)\n",
      "Requirement already satisfied: sentencepiece in ./venv/lib/python3.12/site-packages (from mediapipe) (0.2.0)\n",
      "Requirement already satisfied: CFFI>=1.0 in ./venv/lib/python3.12/site-packages (from sounddevice>=0.4.4->mediapipe) (1.17.1)\n",
      "Requirement already satisfied: decorator in ./venv/lib/python3.12/site-packages (from ipython->Jupyter-Beeper) (5.1.1)\n",
      "Requirement already satisfied: jedi>=0.16 in ./venv/lib/python3.12/site-packages (from ipython->Jupyter-Beeper) (0.19.2)\n",
      "Requirement already satisfied: matplotlib-inline in ./venv/lib/python3.12/site-packages (from ipython->Jupyter-Beeper) (0.1.7)\n",
      "Requirement already satisfied: pexpect>4.3 in ./venv/lib/python3.12/site-packages (from ipython->Jupyter-Beeper) (4.9.0)\n",
      "Requirement already satisfied: prompt_toolkit<3.1.0,>=3.0.41 in ./venv/lib/python3.12/site-packages (from ipython->Jupyter-Beeper) (3.0.50)\n",
      "Requirement already satisfied: pygments>=2.4.0 in ./venv/lib/python3.12/site-packages (from ipython->Jupyter-Beeper) (2.19.1)\n",
      "Requirement already satisfied: stack_data in ./venv/lib/python3.12/site-packages (from ipython->Jupyter-Beeper) (0.6.3)\n",
      "Requirement already satisfied: traitlets>=5.13.0 in ./venv/lib/python3.12/site-packages (from ipython->Jupyter-Beeper) (5.14.3)\n",
      "Requirement already satisfied: ml_dtypes>=0.4.0 in ./venv/lib/python3.12/site-packages (from jax->mediapipe) (0.4.1)\n",
      "Requirement already satisfied: opt_einsum in ./venv/lib/python3.12/site-packages (from jax->mediapipe) (3.4.0)\n",
      "Requirement already satisfied: scipy>=1.11.1 in ./venv/lib/python3.12/site-packages (from jax->mediapipe) (1.15.1)\n",
      "Requirement already satisfied: contourpy>=1.0.1 in ./venv/lib/python3.12/site-packages (from matplotlib->mediapipe) (1.3.1)\n",
      "Requirement already satisfied: cycler>=0.10 in ./venv/lib/python3.12/site-packages (from matplotlib->mediapipe) (0.12.1)\n",
      "Requirement already satisfied: fonttools>=4.22.0 in ./venv/lib/python3.12/site-packages (from matplotlib->mediapipe) (4.55.7)\n",
      "Requirement already satisfied: kiwisolver>=1.3.1 in ./venv/lib/python3.12/site-packages (from matplotlib->mediapipe) (1.4.8)\n",
      "Requirement already satisfied: packaging>=20.0 in ./venv/lib/python3.12/site-packages (from matplotlib->mediapipe) (24.2)\n",
      "Requirement already satisfied: pillow>=8 in ./venv/lib/python3.12/site-packages (from matplotlib->mediapipe) (11.1.0)\n",
      "Requirement already satisfied: pyparsing>=2.3.1 in ./venv/lib/python3.12/site-packages (from matplotlib->mediapipe) (3.2.1)\n",
      "Requirement already satisfied: python-dateutil>=2.7 in ./venv/lib/python3.12/site-packages (from matplotlib->mediapipe) (2.9.0.post0)\n",
      "Requirement already satisfied: pycparser in ./venv/lib/python3.12/site-packages (from CFFI>=1.0->sounddevice>=0.4.4->mediapipe) (2.22)\n",
      "Requirement already satisfied: parso<0.9.0,>=0.8.4 in ./venv/lib/python3.12/site-packages (from jedi>=0.16->ipython->Jupyter-Beeper) (0.8.4)\n",
      "Requirement already satisfied: ptyprocess>=0.5 in ./venv/lib/python3.12/site-packages (from pexpect>4.3->ipython->Jupyter-Beeper) (0.7.0)\n",
      "Requirement already satisfied: wcwidth in ./venv/lib/python3.12/site-packages (from prompt_toolkit<3.1.0,>=3.0.41->ipython->Jupyter-Beeper) (0.2.13)\n",
      "Requirement already satisfied: six>=1.5 in ./venv/lib/python3.12/site-packages (from python-dateutil>=2.7->matplotlib->mediapipe) (1.17.0)\n",
      "Requirement already satisfied: executing>=1.2.0 in ./venv/lib/python3.12/site-packages (from stack_data->ipython->Jupyter-Beeper) (2.2.0)\n",
      "Requirement already satisfied: asttokens>=2.1.0 in ./venv/lib/python3.12/site-packages (from stack_data->ipython->Jupyter-Beeper) (3.0.0)\n",
      "Requirement already satisfied: pure-eval in ./venv/lib/python3.12/site-packages (from stack_data->ipython->Jupyter-Beeper) (0.2.3)\n"
     ]
    }
   ],
   "source": [
    "!pip install Jupyter-Beeper opencv-python numpy mediapipe"
   ]
  },
  {
   "cell_type": "code",
   "execution_count": 12,
   "id": "c8bb0c33",
   "metadata": {},
   "outputs": [],
   "source": [
    "import cv2\n",
    "import numpy as np\n",
    "import os\n",
    "import time\n",
    "import mediapipe as mp\n",
    "import shutil\n",
    "import jupyter_beeper"
   ]
  },
  {
   "cell_type": "code",
   "execution_count": 13,
   "id": "39777af3",
   "metadata": {},
   "outputs": [],
   "source": [
    "mp_holistic = mp.solutions.holistic # Holistic model\n",
    "mp_drawing = mp.solutions.drawing_utils # Drawing utilities"
   ]
  },
  {
   "cell_type": "code",
   "execution_count": 14,
   "id": "e55e769e",
   "metadata": {},
   "outputs": [],
   "source": [
    "def mediapipe_detection(image, model):\n",
    "    image = cv2.cvtColor(image, cv2.COLOR_BGR2RGB) # COLOR CONVERSION BGR 2 RGB\n",
    "    image.flags.writeable = False                  # Image is no longer writeable\n",
    "    results = model.process(image)                 # Make prediction\n",
    "    image.flags.writeable = True                   # Image is now writeable \n",
    "    image = cv2.cvtColor(image, cv2.COLOR_RGB2BGR) # COLOR COVERSION RGB 2 BGR\n",
    "    return image, results"
   ]
  },
  {
   "cell_type": "code",
   "execution_count": 15,
   "id": "0dadc8d0",
   "metadata": {},
   "outputs": [],
   "source": [
    "def draw_styled_landmarks(image, results):\n",
    "    # Draw left hand connections\n",
    "    mp_drawing.draw_landmarks(image, results.left_hand_landmarks, mp_holistic.HAND_CONNECTIONS, \n",
    "                             mp_drawing.DrawingSpec(color=(121,22,76), thickness=2, circle_radius=4), \n",
    "                             mp_drawing.DrawingSpec(color=(121,44,250), thickness=2, circle_radius=2)\n",
    "                             ) \n",
    "    \n",
    "    # Draw right hand connections  \n",
    "    mp_drawing.draw_landmarks(image, results.right_hand_landmarks, mp_holistic.HAND_CONNECTIONS, \n",
    "                             mp_drawing.DrawingSpec(color=(245,117,66), thickness=2, circle_radius=4), \n",
    "                             mp_drawing.DrawingSpec(color=(245,66,230), thickness=2, circle_radius=2)\n",
    "                             ) "
   ]
  },
  {
   "cell_type": "code",
   "execution_count": 16,
   "id": "d7eb55bb",
   "metadata": {},
   "outputs": [],
   "source": [
    "def extract_keypoints(results):\n",
    "    lh = np.array([[res.x, res.y, res.z] for res in results.left_hand_landmarks.landmark]).flatten() if results.left_hand_landmarks else np.zeros(21*3)\n",
    "    rh = np.array([[res.x, res.y, res.z] for res in results.right_hand_landmarks.landmark]).flatten() if results.right_hand_landmarks else np.zeros(21*3)\n",
    "    return np.concatenate([lh, rh])"
   ]
  },
  {
   "cell_type": "markdown",
   "id": "56f0d96d",
   "metadata": {},
   "source": [
    "# Setting Up Folders for Data Collection"
   ]
  },
  {
   "cell_type": "code",
   "execution_count": 17,
   "id": "e8a412c7",
   "metadata": {},
   "outputs": [],
   "source": [
    "# Path for exported data, numpy arrays\n",
    "DATA_PATH = 'data'\n",
    "# frame_path= 'D:\\\\Final_Project\\\\frames'\n",
    "# detection_path= 'D:\\\\Final_Project\\\\detected_frames'/\n",
    "\n",
    "# Actions that we try to detect\n",
    "# actions = np.array(['A', 'B', 'C','D', 'E', 'F','G', 'H', 'I','J', 'K', 'L','M', 'N', 'O','P', 'Q', 'R','S', 'T', 'U','V', 'W','X', 'Y', 'Z'])\n",
    "actions = np.array(['NO_SIGN','A', 'B', 'C'])\n",
    "\n",
    "\n",
    "# Thirty videos worth of data\n",
    "no_sequences = 30\n",
    "\n",
    "# Videos are going to be 30 frames in length\n",
    "sequence_length = 30\n",
    "\n",
    "# Folder start\n",
    "start_folder = 0"
   ]
  },
  {
   "cell_type": "code",
   "execution_count": 18,
   "id": "b13a37a6",
   "metadata": {},
   "outputs": [],
   "source": [
    "for action in actions: \n",
    "    for sequence in range(start_folder,start_folder+no_sequences):\n",
    "        try: \n",
    "            os.makedirs(os.path.join(DATA_PATH, action, str(sequence)))\n",
    "            # os.makedirs(os.path.join(frame_path, action, str(sequence)))\n",
    "            # os.makedirs(os.path.join(detection_path, action, str(sequence)))\n",
    "        except:\n",
    "            pass"
   ]
  },
  {
   "cell_type": "code",
   "execution_count": 19,
   "id": "90ef6b29",
   "metadata": {
    "scrolled": true
   },
   "outputs": [
    {
     "name": "stderr",
     "output_type": "stream",
     "text": [
      "I0000 00:00:1738247421.659851    5846 gl_context_egl.cc:85] Successfully initialized EGL. Major : 1 Minor: 5\n",
      "I0000 00:00:1738247421.663491  124373 gl_context.cc:369] GL version: 3.2 (OpenGL ES 3.2 Mesa 24.0.9-0ubuntu0.3), renderer: AMD Radeon Graphics (radeonsi, renoir, LLVM 17.0.6, DRM 3.57, 6.8.0-51-generic)\n",
      "W0000 00:00:1738247421.770473  124356 inference_feedback_manager.cc:114] Feedback manager requires a model with a single signature inference. Disabling support for feedback tensors.\n",
      "W0000 00:00:1738247421.839390  124361 inference_feedback_manager.cc:114] Feedback manager requires a model with a single signature inference. Disabling support for feedback tensors.\n",
      "W0000 00:00:1738247421.844126  124365 inference_feedback_manager.cc:114] Feedback manager requires a model with a single signature inference. Disabling support for feedback tensors.\n",
      "W0000 00:00:1738247421.844500  124364 inference_feedback_manager.cc:114] Feedback manager requires a model with a single signature inference. Disabling support for feedback tensors.\n",
      "W0000 00:00:1738247421.845714  124361 inference_feedback_manager.cc:114] Feedback manager requires a model with a single signature inference. Disabling support for feedback tensors.\n",
      "W0000 00:00:1738247421.865665  124364 inference_feedback_manager.cc:114] Feedback manager requires a model with a single signature inference. Disabling support for feedback tensors.\n",
      "W0000 00:00:1738247421.872838  124358 inference_feedback_manager.cc:114] Feedback manager requires a model with a single signature inference. Disabling support for feedback tensors.\n",
      "W0000 00:00:1738247421.877193  124365 inference_feedback_manager.cc:114] Feedback manager requires a model with a single signature inference. Disabling support for feedback tensors.\n"
     ]
    },
    {
     "data": {
      "text/html": [],
      "text/plain": [
       "<IPython.core.display.HTML object>"
      ]
     },
     "metadata": {},
     "output_type": "display_data"
    },
    {
     "data": {
      "text/html": [],
      "text/plain": [
       "<IPython.core.display.HTML object>"
      ]
     },
     "metadata": {},
     "output_type": "display_data"
    },
    {
     "data": {
      "text/html": [],
      "text/plain": [
       "<IPython.core.display.HTML object>"
      ]
     },
     "metadata": {},
     "output_type": "display_data"
    },
    {
     "data": {
      "text/html": [],
      "text/plain": [
       "<IPython.core.display.HTML object>"
      ]
     },
     "metadata": {},
     "output_type": "display_data"
    },
    {
     "data": {
      "text/html": [],
      "text/plain": [
       "<IPython.core.display.HTML object>"
      ]
     },
     "metadata": {},
     "output_type": "display_data"
    },
    {
     "data": {
      "text/html": [],
      "text/plain": [
       "<IPython.core.display.HTML object>"
      ]
     },
     "metadata": {},
     "output_type": "display_data"
    },
    {
     "data": {
      "text/html": [],
      "text/plain": [
       "<IPython.core.display.HTML object>"
      ]
     },
     "metadata": {},
     "output_type": "display_data"
    },
    {
     "data": {
      "text/html": [],
      "text/plain": [
       "<IPython.core.display.HTML object>"
      ]
     },
     "metadata": {},
     "output_type": "display_data"
    },
    {
     "data": {
      "text/html": [],
      "text/plain": [
       "<IPython.core.display.HTML object>"
      ]
     },
     "metadata": {},
     "output_type": "display_data"
    },
    {
     "data": {
      "text/html": [],
      "text/plain": [
       "<IPython.core.display.HTML object>"
      ]
     },
     "metadata": {},
     "output_type": "display_data"
    },
    {
     "data": {
      "text/html": [],
      "text/plain": [
       "<IPython.core.display.HTML object>"
      ]
     },
     "metadata": {},
     "output_type": "display_data"
    },
    {
     "data": {
      "text/html": [],
      "text/plain": [
       "<IPython.core.display.HTML object>"
      ]
     },
     "metadata": {},
     "output_type": "display_data"
    },
    {
     "data": {
      "text/html": [],
      "text/plain": [
       "<IPython.core.display.HTML object>"
      ]
     },
     "metadata": {},
     "output_type": "display_data"
    },
    {
     "data": {
      "text/html": [],
      "text/plain": [
       "<IPython.core.display.HTML object>"
      ]
     },
     "metadata": {},
     "output_type": "display_data"
    },
    {
     "data": {
      "text/html": [],
      "text/plain": [
       "<IPython.core.display.HTML object>"
      ]
     },
     "metadata": {},
     "output_type": "display_data"
    },
    {
     "data": {
      "text/html": [],
      "text/plain": [
       "<IPython.core.display.HTML object>"
      ]
     },
     "metadata": {},
     "output_type": "display_data"
    },
    {
     "data": {
      "text/html": [],
      "text/plain": [
       "<IPython.core.display.HTML object>"
      ]
     },
     "metadata": {},
     "output_type": "display_data"
    },
    {
     "data": {
      "text/html": [],
      "text/plain": [
       "<IPython.core.display.HTML object>"
      ]
     },
     "metadata": {},
     "output_type": "display_data"
    },
    {
     "data": {
      "text/html": [],
      "text/plain": [
       "<IPython.core.display.HTML object>"
      ]
     },
     "metadata": {},
     "output_type": "display_data"
    },
    {
     "data": {
      "text/html": [],
      "text/plain": [
       "<IPython.core.display.HTML object>"
      ]
     },
     "metadata": {},
     "output_type": "display_data"
    },
    {
     "data": {
      "text/html": [],
      "text/plain": [
       "<IPython.core.display.HTML object>"
      ]
     },
     "metadata": {},
     "output_type": "display_data"
    },
    {
     "data": {
      "text/html": [],
      "text/plain": [
       "<IPython.core.display.HTML object>"
      ]
     },
     "metadata": {},
     "output_type": "display_data"
    },
    {
     "data": {
      "text/html": [],
      "text/plain": [
       "<IPython.core.display.HTML object>"
      ]
     },
     "metadata": {},
     "output_type": "display_data"
    },
    {
     "data": {
      "text/html": [],
      "text/plain": [
       "<IPython.core.display.HTML object>"
      ]
     },
     "metadata": {},
     "output_type": "display_data"
    },
    {
     "data": {
      "text/html": [],
      "text/plain": [
       "<IPython.core.display.HTML object>"
      ]
     },
     "metadata": {},
     "output_type": "display_data"
    },
    {
     "data": {
      "text/html": [],
      "text/plain": [
       "<IPython.core.display.HTML object>"
      ]
     },
     "metadata": {},
     "output_type": "display_data"
    },
    {
     "data": {
      "text/html": [],
      "text/plain": [
       "<IPython.core.display.HTML object>"
      ]
     },
     "metadata": {},
     "output_type": "display_data"
    },
    {
     "data": {
      "text/html": [],
      "text/plain": [
       "<IPython.core.display.HTML object>"
      ]
     },
     "metadata": {},
     "output_type": "display_data"
    },
    {
     "data": {
      "text/html": [],
      "text/plain": [
       "<IPython.core.display.HTML object>"
      ]
     },
     "metadata": {},
     "output_type": "display_data"
    },
    {
     "data": {
      "text/html": [],
      "text/plain": [
       "<IPython.core.display.HTML object>"
      ]
     },
     "metadata": {},
     "output_type": "display_data"
    },
    {
     "data": {
      "text/html": [],
      "text/plain": [
       "<IPython.core.display.HTML object>"
      ]
     },
     "metadata": {},
     "output_type": "display_data"
    },
    {
     "data": {
      "text/html": [],
      "text/plain": [
       "<IPython.core.display.HTML object>"
      ]
     },
     "metadata": {},
     "output_type": "display_data"
    },
    {
     "data": {
      "text/html": [],
      "text/plain": [
       "<IPython.core.display.HTML object>"
      ]
     },
     "metadata": {},
     "output_type": "display_data"
    },
    {
     "data": {
      "text/html": [],
      "text/plain": [
       "<IPython.core.display.HTML object>"
      ]
     },
     "metadata": {},
     "output_type": "display_data"
    },
    {
     "data": {
      "text/html": [],
      "text/plain": [
       "<IPython.core.display.HTML object>"
      ]
     },
     "metadata": {},
     "output_type": "display_data"
    },
    {
     "data": {
      "text/html": [],
      "text/plain": [
       "<IPython.core.display.HTML object>"
      ]
     },
     "metadata": {},
     "output_type": "display_data"
    },
    {
     "data": {
      "text/html": [],
      "text/plain": [
       "<IPython.core.display.HTML object>"
      ]
     },
     "metadata": {},
     "output_type": "display_data"
    },
    {
     "data": {
      "text/html": [],
      "text/plain": [
       "<IPython.core.display.HTML object>"
      ]
     },
     "metadata": {},
     "output_type": "display_data"
    },
    {
     "data": {
      "text/html": [],
      "text/plain": [
       "<IPython.core.display.HTML object>"
      ]
     },
     "metadata": {},
     "output_type": "display_data"
    },
    {
     "data": {
      "text/html": [],
      "text/plain": [
       "<IPython.core.display.HTML object>"
      ]
     },
     "metadata": {},
     "output_type": "display_data"
    },
    {
     "data": {
      "text/html": [],
      "text/plain": [
       "<IPython.core.display.HTML object>"
      ]
     },
     "metadata": {},
     "output_type": "display_data"
    },
    {
     "data": {
      "text/html": [],
      "text/plain": [
       "<IPython.core.display.HTML object>"
      ]
     },
     "metadata": {},
     "output_type": "display_data"
    },
    {
     "data": {
      "text/html": [],
      "text/plain": [
       "<IPython.core.display.HTML object>"
      ]
     },
     "metadata": {},
     "output_type": "display_data"
    },
    {
     "data": {
      "text/html": [],
      "text/plain": [
       "<IPython.core.display.HTML object>"
      ]
     },
     "metadata": {},
     "output_type": "display_data"
    },
    {
     "data": {
      "text/html": [],
      "text/plain": [
       "<IPython.core.display.HTML object>"
      ]
     },
     "metadata": {},
     "output_type": "display_data"
    },
    {
     "data": {
      "text/html": [],
      "text/plain": [
       "<IPython.core.display.HTML object>"
      ]
     },
     "metadata": {},
     "output_type": "display_data"
    },
    {
     "data": {
      "text/html": [],
      "text/plain": [
       "<IPython.core.display.HTML object>"
      ]
     },
     "metadata": {},
     "output_type": "display_data"
    },
    {
     "data": {
      "text/html": [],
      "text/plain": [
       "<IPython.core.display.HTML object>"
      ]
     },
     "metadata": {},
     "output_type": "display_data"
    },
    {
     "data": {
      "text/html": [],
      "text/plain": [
       "<IPython.core.display.HTML object>"
      ]
     },
     "metadata": {},
     "output_type": "display_data"
    },
    {
     "data": {
      "text/html": [],
      "text/plain": [
       "<IPython.core.display.HTML object>"
      ]
     },
     "metadata": {},
     "output_type": "display_data"
    },
    {
     "data": {
      "text/html": [],
      "text/plain": [
       "<IPython.core.display.HTML object>"
      ]
     },
     "metadata": {},
     "output_type": "display_data"
    },
    {
     "data": {
      "text/html": [],
      "text/plain": [
       "<IPython.core.display.HTML object>"
      ]
     },
     "metadata": {},
     "output_type": "display_data"
    },
    {
     "data": {
      "text/html": [],
      "text/plain": [
       "<IPython.core.display.HTML object>"
      ]
     },
     "metadata": {},
     "output_type": "display_data"
    },
    {
     "data": {
      "text/html": [],
      "text/plain": [
       "<IPython.core.display.HTML object>"
      ]
     },
     "metadata": {},
     "output_type": "display_data"
    },
    {
     "data": {
      "text/html": [],
      "text/plain": [
       "<IPython.core.display.HTML object>"
      ]
     },
     "metadata": {},
     "output_type": "display_data"
    },
    {
     "data": {
      "text/html": [],
      "text/plain": [
       "<IPython.core.display.HTML object>"
      ]
     },
     "metadata": {},
     "output_type": "display_data"
    },
    {
     "data": {
      "text/html": [],
      "text/plain": [
       "<IPython.core.display.HTML object>"
      ]
     },
     "metadata": {},
     "output_type": "display_data"
    },
    {
     "data": {
      "text/html": [],
      "text/plain": [
       "<IPython.core.display.HTML object>"
      ]
     },
     "metadata": {},
     "output_type": "display_data"
    },
    {
     "data": {
      "text/html": [
       "<div style=\"display:none\">\n",
       "                <audio onended=\"this.parentNode.removeChild(this)\"  controls=\"controls\" autoplay=\"autoplay\">\n",
       "                    <source src=\"data:audio/wav;base64,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\" type=\"audio/wav\" />\n",
       "                    Your browser does not support the audio element.\n",
       "                </audio>\n",
       "              </div>"
      ],
      "text/plain": [
       "<jupyter_beeper.Beeper.InvisibleAudio object>"
      ]
     },
     "metadata": {},
     "output_type": "display_data"
    },
    {
     "data": {
      "text/html": [],
      "text/plain": [
       "<IPython.core.display.HTML object>"
      ]
     },
     "metadata": {},
     "output_type": "display_data"
    }
   ],
   "source": [
    "cap = cv2.VideoCapture(0)\n",
    "# Set mediapipe model \n",
    "with mp_holistic.Holistic(min_detection_confidence=0.5, min_tracking_confidence=0.5) as holistic:\n",
    "    \n",
    "    # NEW LOOP\n",
    "    action=actions[2] #m\n",
    "    # Loop through actions\n",
    "    sequence=start_folder\n",
    "    while(sequence < start_folder+no_sequences):\n",
    "        # Loop through video length aka sequence length\n",
    "        for frame_num in range(sequence_length):\n",
    "            \n",
    "            # fr_path = os.path.join(frame_path, action, str(sequence), str(frame_num)+\".jpg\")\n",
    "            # dfr_path = os.path.join(detection_path, action, str(sequence), str(frame_num)+\".jpg\")\n",
    "            \n",
    "                # Read feed\n",
    "            ret, frame = cap.read()\n",
    "            \n",
    "\n",
    "                # Make detections\n",
    "            image, results = mediapipe_detection(frame, holistic)\n",
    "\n",
    "                # Draw landmarks\n",
    "            draw_styled_landmarks(image, results)\n",
    "                \n",
    "                # NEW Apply wait logic\n",
    "            if frame_num == 0: \n",
    "                cv2.putText(image, 'STARTING COLLECTION', (120,200), \n",
    "                           cv2.FONT_HERSHEY_SIMPLEX, 1, (0,255, 0), 4, cv2.LINE_AA)\n",
    "                cv2.putText(image, 'Collecting frames for {} Video Number {}'.format(action, sequence), (15,12), \n",
    "                           cv2.FONT_HERSHEY_SIMPLEX, 0.5, (0, 0, 255), 1, cv2.LINE_AA)\n",
    "                    # Show to screen\n",
    "                cv2.imshow('OpenCV Feed', image)\n",
    "            else: \n",
    "                cv2.putText(image, 'Collecting frames for {} Video Number {}'.format(action, sequence), (15,12), \n",
    "                           cv2.FONT_HERSHEY_SIMPLEX, 0.5, (0, 0, 255), 1, cv2.LINE_AA)\n",
    "                    # Show to screen\n",
    "                cv2.imshow('OpenCV Feed', image)\n",
    "                \n",
    "               \n",
    "            # cv2.imwrite(dfr_path, image)\n",
    "            # cv2.imwrite(fr_path, frame)\n",
    "                # NEW Export keypoints\n",
    "            keypoints = extract_keypoints(results)\n",
    "            npy_path = os.path.join(DATA_PATH, action, str(sequence), str(frame_num))\n",
    "            np.save(npy_path, keypoints)\n",
    "\n",
    "                # Break gracefully\n",
    "            if cv2.waitKey(10) & 0xFF == ord('q'):\n",
    "                #cv2.putText(image, 'CURRENT SEQUENCE DISCARD', (120,200), \n",
    "                 #            cv2.FONT_HERSHEY_SIMPLEX, 1, (0,255, 0), 4, cv2.LINE_AA)\n",
    "                print('quit')\n",
    "                cv2.waitKey(2000)\n",
    "                break\n",
    "        \n",
    "        cv2.putText(image, 'PRESS Y IF REQUIRED NOW', (120,200), \n",
    "                             cv2.FONT_HERSHEY_SIMPLEX, 1, (0,255, 0), 4, cv2.LINE_AA)\n",
    "        cv2.imshow('OpenCV Feed', image)\n",
    "        if cv2.waitKey(30000) & 0xFF == ord('y'):\n",
    "            sequence=sequence+1\n",
    "            cv2.waitKey(3000)\n",
    "            b = jupyter_beeper.Beeper()\n",
    "            # Default config is frequency=440 Hz, secs=0.7 seconds, and\n",
    "            # blocking=False (b.beep() will return when the sound begins)\n",
    "            b.beep(frequency=530, secs=0.2, blocking=True)\n",
    "            cv2.waitKey(1000)\n",
    "        elif cv2.waitKey(30000) & 0xFF == ord('q'):\n",
    "                cap.release()\n",
    "                cv2.destroyAllWindows()\n",
    "        else:\n",
    "            cv2.putText(image, 'CURRENT SEQUENCE DISCARD', (120,200), \n",
    "                           cv2.FONT_HERSHEY_SIMPLEX, 1, (0,255, 0), 4, cv2.LINE_AA)\n",
    "            # shutil.rmtree(os.path.join(frame_path,action,str(sequence)))\n",
    "            # shutil.rmtree(os.path.join(detection_path,action,str(sequence)))\n",
    "            shutil.rmtree(os.path.join(DATA_PATH,action,str(sequence)))\n",
    "            os.makedirs(os.path.join(DATA_PATH, action, str(sequence)))\n",
    "            # os.makedirs(os.path.join(frame_path, action, str(sequence)))\n",
    "            # os.makedirs(os.path.join(detection_path, action, str(sequence)))\n",
    "            cv2.waitKey(1000)\n",
    "                \n",
    "    cap.release()\n",
    "    cv2.destroyAllWindows()"
   ]
  },
  {
   "cell_type": "code",
   "execution_count": 20,
   "id": "706029f3-c60d-453d-9869-7d913b957004",
   "metadata": {},
   "outputs": [],
   "source": [
    "cap.release()\n",
    "cv2.destroyAllWindows()"
   ]
  },
  {
   "cell_type": "code",
   "execution_count": null,
   "id": "e22aed96-a8ae-4b0b-91ad-60210e719077",
   "metadata": {},
   "outputs": [],
   "source": []
  },
  {
   "cell_type": "code",
   "execution_count": null,
   "id": "afd35311-9abd-45bd-b278-af38d5c75c62",
   "metadata": {},
   "outputs": [],
   "source": []
  }
 ],
 "metadata": {
  "kernelspec": {
   "display_name": "Python 3 (ipykernel)",
   "language": "python",
   "name": "python3"
  },
  "language_info": {
   "codemirror_mode": {
    "name": "ipython",
    "version": 3
   },
   "file_extension": ".py",
   "mimetype": "text/x-python",
   "name": "python",
   "nbconvert_exporter": "python",
   "pygments_lexer": "ipython3",
   "version": "3.12.3"
  }
 },
 "nbformat": 4,
 "nbformat_minor": 5
}
